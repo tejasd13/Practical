{
 "cells": [
  {
   "cell_type": "code",
   "execution_count": 1,
   "id": "6acbd57f",
   "metadata": {},
   "outputs": [],
   "source": [
    "import numpy as np\n",
    "import matplotlib.pyplot as plt"
   ]
  },
  {
   "cell_type": "code",
   "execution_count": 11,
   "id": "468cacba",
   "metadata": {},
   "outputs": [
    {
     "name": "stdout",
     "output_type": "stream",
     "text": [
      "[0 1 2 3 4 5 6 7 8 9] [25 16  9  4  1  0  1  4  9 16]\n"
     ]
    }
   ],
   "source": [
    "X = np.arange(10)\n",
    "Y = (X-5)**2\n",
    "print(X,Y)"
   ]
  },
  {
   "cell_type": "code",
   "execution_count": 12,
   "id": "0c8fbc19",
   "metadata": {},
   "outputs": [],
   "source": [
    "#our task is to find for a function f(x), a value that minimizes function f using gradient descent"
   ]
  },
  {
   "cell_type": "code",
   "execution_count": 13,
   "id": "e684530b",
   "metadata": {},
   "outputs": [
    {
     "data": {
      "image/png": "[encoded data removed]",
      "text/plain": [
       "<Figure size 432x288 with 1 Axes>"
      ]
     },
     "metadata": {
      "needs_background": "light"
     },
     "output_type": "display_data"
    }
   ],
   "source": [
    "#visualization\n",
    "plt.plot(X,Y)\n",
    "plt.xlabel(\"x\")\n",
    "plt.ylabel(\"F(x)\")\n",
    "plt.show()"
   ]
  },
  {
   "cell_type": "code",
   "execution_count": 14,
   "id": "24556001",
   "metadata": {},
   "outputs": [
    {
     "name": "stdout",
     "output_type": "stream",
     "text": [
      "2.6\n",
      "3.08\n",
      "3.464\n",
      "3.7712\n",
      "4.01696\n",
      "4.213568\n",
      "4.370854400000001\n",
      "4.49668352\n",
      "4.597346816\n",
      "4.6778774528\n",
      "4.74230196224\n",
      "4.793841569792\n",
      "4.8350732558336\n",
      "4.86805860466688\n",
      "4.894446883733504\n",
      "4.9155575069868025\n",
      "4.932446005589442\n",
      "4.945956804471554\n",
      "4.956765443577243\n",
      "4.965412354861795\n",
      "4.972329883889436\n",
      "4.977863907111549\n",
      "4.982291125689239\n",
      "4.985832900551391\n",
      "4.988666320441113\n",
      "4.99093305635289\n",
      "4.992746445082313\n",
      "4.99419715606585\n",
      "4.9953577248526795\n",
      "4.996286179882143\n",
      "4.997028943905715\n",
      "4.997623155124572\n",
      "4.998098524099658\n",
      "4.998478819279726\n",
      "4.998783055423781\n",
      "4.999026444339025\n",
      "4.99922115547122\n",
      "4.999376924376977\n",
      "4.999501539501582\n",
      "4.9996012316012655\n",
      "4.999680985281012\n",
      "4.99974478822481\n",
      "4.999795830579847\n",
      "4.999836664463878\n",
      "4.9998693315711025\n",
      "4.999895465256882\n",
      "4.999916372205506\n",
      "4.999933097764405\n",
      "4.999946478211524\n",
      "4.9999571825692195\n",
      "Local minima is at x= 4.9999571825692195\n"
     ]
    }
   ],
   "source": [
    "x=2  #taken x=2 as written in handout, take x which is given in question or else take 0\n",
    "lr=0.1  # lr means learning rate.It is a parameter which detremines step size at each iteration\n",
    "           # step size means how much you will move while going downhill\n",
    "\n",
    "#take 50 steps in downhill direction\n",
    "#steps means iterations\n",
    "for i in range(50):\n",
    "    gradient = 2*(x-5)  # it is differentiation of function we took initially i.e. (x-5)**2\n",
    "    x=x-lr*gradient\n",
    "    print(x)\n",
    "print(\"Local minima is at x=\",x)"
   ]
  },
  {
   "cell_type": "code",
   "execution_count": null,
   "id": "ab0f239a",
   "metadata": {},
   "outputs": [],
   "source": []
  },
  {
   "cell_type": "code",
   "execution_count": null,
   "id": "2f001e2a",
   "metadata": {},
   "outputs": [],
   "source": []
  }
 ],
 "metadata": {
  "kernelspec": {
   "display_name": "Python 3 (ipykernel)",
   "language": "python",
   "name": "python3"
  },
  "language_info": {
   "codemirror_mode": {
    "name": "ipython",
    "version": 3
   },
   "file_extension": ".py",
   "mimetype": "text/x-python",
   "name": "python",
   "nbconvert_exporter": "python",
   "pygments_lexer": "ipython3",
   "version": "3.10.4"
  }
 },
 "nbformat": 4,
 "nbformat_minor": 5
}
